{
 "cells": [
  {
   "cell_type": "markdown",
   "metadata": {},
   "source": [
    "Lasso"
   ]
  },
  {
   "cell_type": "code",
   "execution_count": 375,
   "metadata": {},
   "outputs": [],
   "source": [
    "import sklearn\n",
    "from sklearn.datasets import load_diabetes\n",
    "diabetes = load_diabetes()"
   ]
  },
  {
   "cell_type": "code",
   "execution_count": 376,
   "metadata": {},
   "outputs": [
    {
     "name": "stdout",
     "output_type": "stream",
     "text": [
      ".. _diabetes_dataset:\n",
      "\n",
      "Diabetes dataset\n",
      "----------------\n",
      "\n",
      "Ten baseline variables, age, sex, body mass index, average blood\n",
      "pressure, and six blood serum measurements were obtained for each of n =\n",
      "442 diabetes patients, as well as the response of interest, a\n",
      "quantitative measure of disease progression one year after baseline.\n",
      "\n",
      "**Data Set Characteristics:**\n",
      "\n",
      "  :Number of Instances: 442\n",
      "\n",
      "  :Number of Attributes: First 10 columns are numeric predictive values\n",
      "\n",
      "  :Target: Column 11 is a quantitative measure of disease progression one year after baseline\n",
      "\n",
      "  :Attribute Information:\n",
      "      - age     age in years\n",
      "      - sex\n",
      "      - bmi     body mass index\n",
      "      - bp      average blood pressure\n",
      "      - s1      tc, T-Cells (a type of white blood cells)\n",
      "      - s2      ldl, low-density lipoproteins\n",
      "      - s3      hdl, high-density lipoproteins\n",
      "      - s4      tch, thyroid stimulating hormone\n",
      "      - s5      ltg, lamotrigine\n",
      "      - s6      glu, blood sugar level\n",
      "\n",
      "Note: Each of these 10 feature variables have been mean centered and scaled by the standard deviation times `n_samples` (i.e. the sum of squares of each column totals 1).\n",
      "\n",
      "Source URL:\n",
      "https://www4.stat.ncsu.edu/~boos/var.select/diabetes.html\n",
      "\n",
      "For more information see:\n",
      "Bradley Efron, Trevor Hastie, Iain Johnstone and Robert Tibshirani (2004) \"Least Angle Regression,\" Annals of Statistics (with discussion), 407-499.\n",
      "(https://web.stanford.edu/~hastie/Papers/LARS/LeastAngle_2002.pdf)\n"
     ]
    }
   ],
   "source": [
    "print(diabetes.DESCR)"
   ]
  },
  {
   "cell_type": "markdown",
   "metadata": {},
   "source": [
    "Description of the dataset"
   ]
  },
  {
   "cell_type": "code",
   "execution_count": 377,
   "metadata": {},
   "outputs": [],
   "source": [
    "from sklearn.model_selection import train_test_split\n",
    "X_train, X_test, y_train, y_test = train_test_split(diabetes.data, diabetes.target, random_state=2409)"
   ]
  },
  {
   "cell_type": "markdown",
   "metadata": {},
   "source": [
    "As seen from lab5 we split it into training and test sets and fit a linear model to the training set"
   ]
  },
  {
   "cell_type": "code",
   "execution_count": 378,
   "metadata": {},
   "outputs": [
    {
     "name": "stdout",
     "output_type": "stream",
     "text": [
      "(331, 10)\n",
      "(111, 10)\n"
     ]
    }
   ],
   "source": [
    "print(X_train.shape) # Check\n",
    "print(X_test.shape)"
   ]
  },
  {
   "cell_type": "code",
   "execution_count": 379,
   "metadata": {},
   "outputs": [
    {
     "data": {
      "text/plain": [
       "0.3397079122572153"
      ]
     },
     "execution_count": 379,
     "metadata": {},
     "output_type": "execute_result"
    }
   ],
   "source": [
    "from sklearn.linear_model import Lasso\n",
    "ls = Lasso().fit(X_train,y_train)\n",
    "ls.score(X_train,y_train)"
   ]
  },
  {
   "cell_type": "code",
   "execution_count": 380,
   "metadata": {},
   "outputs": [
    {
     "data": {
      "text/plain": [
       "0.3292835912480715"
      ]
     },
     "execution_count": 380,
     "metadata": {},
     "output_type": "execute_result"
    }
   ],
   "source": [
    "ls.score(X_test,y_test)"
   ]
  },
  {
   "cell_type": "code",
   "execution_count": 382,
   "metadata": {},
   "outputs": [
    {
     "data": {
      "text/plain": [
       "3"
      ]
     },
     "execution_count": 382,
     "metadata": {},
     "output_type": "execute_result"
    }
   ],
   "source": [
    "import numpy as np\n",
    "np.sum(ls.coef_ != 0)"
   ]
  },
  {
   "cell_type": "markdown",
   "metadata": {},
   "source": [
    "Training and test R2 for the Lasso model"
   ]
  },
  {
   "cell_type": "code",
   "execution_count": 383,
   "metadata": {},
   "outputs": [
    {
     "data": {
      "text/plain": [
       "['age', 'sex', 'bmi', 'bp', 's1', 's2', 's3', 's4', 's5', 's6']"
      ]
     },
     "execution_count": 383,
     "metadata": {},
     "output_type": "execute_result"
    }
   ],
   "source": [
    "diabetes.feature_names"
   ]
  },
  {
   "cell_type": "markdown",
   "metadata": {},
   "source": [
    "returns the names of the dataset columns"
   ]
  },
  {
   "cell_type": "markdown",
   "metadata": {},
   "source": [
    "age,sex,bmi,bp,s1,s2,s3,s4,s5,s6 / In total it has 10 Features.\n",
    "R2 = 3"
   ]
  },
  {
   "cell_type": "code",
   "execution_count": 346,
   "metadata": {},
   "outputs": [
    {
     "data": {
      "text/plain": [
       "array([[ 59.    ,   2.    ,  32.1   , 101.    , 157.    ,  93.2   ,\n",
       "         38.    ,   4.    ,   4.8598,  87.    ],\n",
       "       [ 48.    ,   1.    ,  21.6   ,  87.    , 183.    , 103.2   ,\n",
       "         70.    ,   3.    ,   3.8918,  69.    ],\n",
       "       [ 72.    ,   2.    ,  30.5   ,  93.    , 156.    ,  93.6   ,\n",
       "         41.    ,   4.    ,   4.6728,  85.    ]])"
      ]
     },
     "execution_count": 346,
     "metadata": {},
     "output_type": "execute_result"
    }
   ],
   "source": [
    "X = np.genfromtxt(\"diabetes.data\",skip_header=1,usecols=range(10))\n",
    "X[:3]"
   ]
  },
  {
   "cell_type": "markdown",
   "metadata": {},
   "source": [
    "After checking the file I examined that there are 10 columns,\n",
    "also presence of a header in the file can hinder data processing, so we have to skip the header to get only integers\n",
    "Used X[:3] as checker and for analysing later"
   ]
  },
  {
   "cell_type": "code",
   "execution_count": 347,
   "metadata": {},
   "outputs": [
    {
     "data": {
      "text/plain": [
       "array([151.,  75., 141.])"
      ]
     },
     "execution_count": 347,
     "metadata": {},
     "output_type": "execute_result"
    }
   ],
   "source": [
    "y = np.genfromtxt('diabetes.data',skip_header=1,usecols=10)\n",
    "y[:3]"
   ]
  },
  {
   "cell_type": "code",
   "execution_count": 348,
   "metadata": {},
   "outputs": [],
   "source": [
    "X1_train, X1_test, y1_train, y1_test = train_test_split(X, y, random_state=2409)"
   ]
  },
  {
   "cell_type": "markdown",
   "metadata": {},
   "source": [
    "Repetition of item 3 for current dataset"
   ]
  },
  {
   "cell_type": "code",
   "execution_count": 349,
   "metadata": {},
   "outputs": [
    {
     "data": {
      "text/plain": [
       "0.48205966121822574"
      ]
     },
     "execution_count": 349,
     "metadata": {},
     "output_type": "execute_result"
    }
   ],
   "source": [
    "ls = Lasso().fit(X1_train,y1_train)\n",
    "ls.score(X1_train, y1_train)"
   ]
  },
  {
   "cell_type": "code",
   "execution_count": 350,
   "metadata": {},
   "outputs": [
    {
     "data": {
      "text/plain": [
       "0.5226179095176235"
      ]
     },
     "execution_count": 350,
     "metadata": {},
     "output_type": "execute_result"
    }
   ],
   "source": [
    "ls.score(X1_test, y1_test)"
   ]
  },
  {
   "cell_type": "code",
   "execution_count": 351,
   "metadata": {},
   "outputs": [
    {
     "data": {
      "text/plain": [
       "9"
      ]
     },
     "execution_count": 351,
     "metadata": {},
     "output_type": "execute_result"
    }
   ],
   "source": [
    "np.sum(ls.coef_ != 0)"
   ]
  },
  {
   "cell_type": "code",
   "execution_count": 352,
   "metadata": {},
   "outputs": [
    {
     "data": {
      "text/plain": [
       "array([ -0.09287687, -14.79808797,   5.22376991,   1.26266079,\n",
       "         0.8991142 ,  -1.0516787 ,  -1.68330898,  -0.        ,\n",
       "        12.18617115,   0.40447343])"
      ]
     },
     "execution_count": 352,
     "metadata": {},
     "output_type": "execute_result"
    }
   ],
   "source": [
    "ls.coef_"
   ]
  },
  {
   "cell_type": "markdown",
   "metadata": {},
   "source": [
    "The results for this prediction is quite bad due to the number of the non-zeros seen."
   ]
  },
  {
   "cell_type": "code",
   "execution_count": 353,
   "metadata": {},
   "outputs": [
    {
     "name": "stdout",
     "output_type": "stream",
     "text": [
      "(331, 10)\n",
      "[-0.10722563 -0.04464164 -0.0902753  -0.1123996  -0.12678067 -0.11279473\n",
      " -0.09862541 -0.0763945  -0.12609739 -0.13776723]\n",
      "[0.11072668 0.05068012 0.17055523 0.13204422 0.15391371 0.19878799\n",
      " 0.18117906 0.18523444 0.13359898 0.13561183]\n",
      "[-2.22650835 -0.88836321 -1.84124208 -2.3124947  -2.62392112 -2.31453088\n",
      " -2.11582488 -1.59554187 -2.65654384 -2.84042347]\n",
      "[2.31897437 1.12566571 3.45281632 2.7238968  3.27080056 4.17784144\n",
      " 3.81957414 4.05340088 2.88994388 2.88656233]\n"
     ]
    }
   ],
   "source": [
    "from sklearn.preprocessing import StandardScaler\n",
    "scaler = StandardScaler()\n",
    "scaler.fit(X1_train)\n",
    "# transform data\n",
    "X1_train_scaled = scaler.transform(X1_train)\n",
    "X1_test_scaled = scaler.transform(X1_test)\n",
    "# print dataset properties\n",
    "print(X1_train_scaled.shape)\n",
    "print(X_train.min(axis=0))\n",
    "print(X_train.max(axis=0))\n",
    "print(X1_train_scaled.min(axis=0))\n",
    "print(X1_train_scaled.max(axis=0))"
   ]
  },
  {
   "cell_type": "markdown",
   "metadata": {},
   "source": [
    "print dataset properties before and after scaling as a check"
   ]
  },
  {
   "cell_type": "markdown",
   "metadata": {},
   "source": [
    "Repetition of item 3 as stated in item 8"
   ]
  },
  {
   "cell_type": "code",
   "execution_count": 354,
   "metadata": {},
   "outputs": [
    {
     "data": {
      "text/plain": [
       "0.4870509176624266"
      ]
     },
     "execution_count": 354,
     "metadata": {},
     "output_type": "execute_result"
    }
   ],
   "source": [
    "ls = Lasso().fit(X1_train_scaled,y1_train)\n",
    "ls.score(X1_train_scaled, y1_train)"
   ]
  },
  {
   "cell_type": "code",
   "execution_count": 355,
   "metadata": {},
   "outputs": [
    {
     "data": {
      "text/plain": [
       "0.5455660184826467"
      ]
     },
     "execution_count": 355,
     "metadata": {},
     "output_type": "execute_result"
    }
   ],
   "source": [
    "ls.score(X1_test_scaled, y1_test)"
   ]
  },
  {
   "cell_type": "code",
   "execution_count": 356,
   "metadata": {},
   "outputs": [
    {
     "data": {
      "text/plain": [
       "8"
      ]
     },
     "execution_count": 356,
     "metadata": {},
     "output_type": "execute_result"
    }
   ],
   "source": [
    "np.sum(ls.coef_ != 0)"
   ]
  },
  {
   "cell_type": "code",
   "execution_count": 357,
   "metadata": {},
   "outputs": [
    {
     "data": {
      "text/plain": [
       "array([-0.17576093, -8.45079926, 22.50232488, 16.68007139, -0.        ,\n",
       "       -4.59233016, -9.18833453, -0.        , 20.75060403,  3.29483713])"
      ]
     },
     "execution_count": 357,
     "metadata": {},
     "output_type": "execute_result"
    }
   ],
   "source": [
    "ls.coef_"
   ]
  },
  {
   "cell_type": "markdown",
   "metadata": {},
   "source": [
    "After examination I think the results are very bad and may be erroneous as the number of non zeros is worse in this case in \n",
    "comparison to the first set of results. They are closer to the item 3 dataset then the normalised one."
   ]
  },
  {
   "cell_type": "code",
   "execution_count": 358,
   "metadata": {},
   "outputs": [],
   "source": [
    "alphas = np.array([0.05, 0.1, 0.25, 1, 3, 6, 12, 30]) # sample alphas\n",
    "ls = Lasso(max_iter = 10000, normalize = True) # determine max iteration and set normalise to true\n",
    "size = alphas.size  # store the size for the alphas\n",
    "coefs = []    # initialise num of coef in this case features used\n",
    "r2 = []   # initialize R2 for every aplha\n",
    "\n",
    "# iterate through alphas to get R2 and features used not equal to 0\n",
    "for a in range(size):\n",
    "    ls.set_params(alpha=alphas[a])\n",
    "    ls.fit(X1_train_scaled, y1_train)\n",
    "    \n",
    "    r2.append(ls.score(X1_train_scaled, y1_train))\n",
    "    coefs.append(np.sum(ls.coef_ != 0)) "
   ]
  },
  {
   "cell_type": "markdown",
   "metadata": {},
   "source": [
    "Once I tested different ranges I found some did not converage as the gap was not \n",
    "enough thus needing more iterations, also tested that numbers under 0 are not \n",
    "appropriate."
   ]
  },
  {
   "cell_type": "code",
   "execution_count": 359,
   "metadata": {},
   "outputs": [
    {
     "data": {
      "text/plain": [
       "Text(0.5, 1.0, 'R2 vs the number of features used')"
      ]
     },
     "execution_count": 359,
     "metadata": {},
     "output_type": "execute_result"
    },
    {
     "data": {
      "image/png": "[encoded data removed]",
      "text/plain": [
       "<Figure size 432x288 with 1 Axes>"
      ]
     },
     "metadata": {
      "needs_background": "light"
     },
     "output_type": "display_data"
    }
   ],
   "source": [
    "%matplotlib inline\n",
    "import matplotlib.pyplot as plt\n",
    "plt.plot(r2, coefs, marker='x')\n",
    "plt.title(\"R2 vs the number of features used\")"
   ]
  },
  {
   "cell_type": "markdown",
   "metadata": {},
   "source": [
    "Although I did manage to make the curve look pretty I have identified that not all points have been covered"
   ]
  },
  {
   "cell_type": "markdown",
   "metadata": {},
   "source": [
    "I prefer the model with 8 features at this point a clear incline can be seen relative to the features"
   ]
  },
  {
   "cell_type": "code",
   "execution_count": 390,
   "metadata": {},
   "outputs": [
    {
     "data": {
      "text/plain": [
       "0.4870509176624266"
      ]
     },
     "execution_count": 390,
     "metadata": {},
     "output_type": "execute_result"
    }
   ],
   "source": [
    "param_grid = {'alpha': [0.001, 0.01, 0.1, 1, 10, 100]}\n",
    "# using cross validation\n",
    "from sklearn.model_selection import GridSearchCV\n",
    "grid_search = GridSearchCV(Lasso(), param_grid, cv=5)\n",
    "grid_search.fit(X1_train_scaled, y1_train)\n",
    "grid_search.score(X1_train_scaled, y1_train)"
   ]
  },
  {
   "cell_type": "markdown",
   "metadata": {},
   "source": [
    "From lab 6 we can see how sci tools can be used for cross validation"
   ]
  },
  {
   "cell_type": "code",
   "execution_count": 391,
   "metadata": {},
   "outputs": [
    {
     "data": {
      "text/plain": [
       "0.5455660184826467"
      ]
     },
     "execution_count": 391,
     "metadata": {},
     "output_type": "execute_result"
    }
   ],
   "source": [
    "grid_search.score(X1_test_scaled, y1_test)"
   ]
  },
  {
   "cell_type": "markdown",
   "metadata": {},
   "source": [
    "The result seems higher"
   ]
  },
  {
   "cell_type": "code",
   "execution_count": 392,
   "metadata": {},
   "outputs": [
    {
     "name": "stdout",
     "output_type": "stream",
     "text": [
      "{'alpha': 1}\n",
      "0.4386854097415188\n"
     ]
    }
   ],
   "source": [
    "print(grid_search.best_params_)\n",
    "print(grid_search.best_score_)"
   ]
  },
  {
   "cell_type": "code",
   "execution_count": 393,
   "metadata": {},
   "outputs": [
    {
     "data": {
      "text/plain": [
       "Lasso(alpha=1)"
      ]
     },
     "execution_count": 393,
     "metadata": {},
     "output_type": "execute_result"
    }
   ],
   "source": [
    "grid_search.best_estimator_"
   ]
  },
  {
   "cell_type": "code",
   "execution_count": 394,
   "metadata": {},
   "outputs": [
    {
     "name": "stdout",
     "output_type": "stream",
     "text": [
      "8\n"
     ]
    }
   ],
   "source": [
    "print(np.sum(grid_search.best_estimator_.coef_ != 0))"
   ]
  },
  {
   "cell_type": "code",
   "execution_count": 395,
   "metadata": {},
   "outputs": [
    {
     "data": {
      "text/plain": [
       "(99, 10)"
      ]
     },
     "execution_count": 395,
     "metadata": {},
     "output_type": "execute_result"
    }
   ],
   "source": [
    "calib_size = 99  #size of calibration set\n",
    "# the training set proper\n",
    "# must set test size to 99 to ensure x_cal is equal to 99\n",
    "X_train_prop, X_cal, y_train_prop, y_cal = train_test_split(X1_train, y1_train, random_state=2409, test_size=99)\n",
    "X_cal.shape # act as check"
   ]
  },
  {
   "cell_type": "code",
   "execution_count": 396,
   "metadata": {},
   "outputs": [],
   "source": [
    "# Preprocess the training set proper, calibration set, and test set\n",
    "scaler = StandardScaler()\n",
    "scaler.fit(X_train_prop)\n",
    "X_train_trans = scaler.transform(X_train_prop)\n",
    "X_calib_trans = scaler.transform(X_cal)\n",
    "X_test_trans = scaler.transform(X1_test) "
   ]
  },
  {
   "cell_type": "code",
   "execution_count": 397,
   "metadata": {},
   "outputs": [],
   "source": [
    "param_grid = {'alpha': [0.01, 0.05, 0.1, 1, 12, 20, 50, 100]}\n",
    "# train lasso for trainning proper set\n",
    "grid_search = GridSearchCV(Lasso(), param_grid, cv=5)\n",
    "grid_search.fit(X_train_trans, y_train_prop)\n",
    "y_hat = grid_search.predict(X_calib_trans)"
   ]
  },
  {
   "cell_type": "code",
   "execution_count": 398,
   "metadata": {},
   "outputs": [
    {
     "data": {
      "text/plain": [
       "array([  1.02957948,   1.15590236,   1.19891392,   1.92465207,\n",
       "         2.02742561,   2.14925056,   3.07849323,   3.13605325,\n",
       "         4.60675284,   5.12251363,   5.26499923,   5.41385264,\n",
       "         5.96900612,   7.74178261,   8.1527902 ,   8.27077957,\n",
       "         8.56553495,   8.62605579,   9.61437165,   9.72429457,\n",
       "         9.98488596,  10.22833226,  10.48251253,  10.49940228,\n",
       "        15.72034509,  16.53951412,  16.92872318,  17.38185522,\n",
       "        19.04095129,  20.4680191 ,  20.85847205,  22.60604216,\n",
       "        23.66064097,  24.32225227,  25.65170477,  26.3246577 ,\n",
       "        26.48653025,  27.47076069,  28.01337041,  28.10119427,\n",
       "        29.19916139,  32.36112876,  34.35242101,  35.98197628,\n",
       "        36.8288781 ,  37.2699265 ,  37.49018099,  37.87911293,\n",
       "        39.24517446,  39.33778418,  44.37728316,  44.42490151,\n",
       "        47.26744462,  48.09434904,  49.11602066,  49.69844062,\n",
       "        49.77138215,  51.96990297,  52.97740504,  54.81796237,\n",
       "        54.92458931,  55.09222612,  56.00099642,  56.10883167,\n",
       "        57.95119255,  58.36879354,  58.6347561 ,  62.04699596,\n",
       "        62.55172922,  62.64902102,  63.47546954,  63.77454578,\n",
       "        66.04592646,  69.14974387,  69.455803  ,  70.43975128,\n",
       "        72.2491266 ,  72.4208801 ,  72.76598962,  73.40325429,\n",
       "        73.97287948,  75.8317861 ,  78.86080099,  82.65510898,\n",
       "        85.90034199,  88.74927081,  88.7582559 ,  89.74873562,\n",
       "        92.63122403,  93.14697188,  96.67851483,  96.73761215,\n",
       "        98.18123322, 103.07823055, 103.22159318, 105.87040658,\n",
       "       107.43755152, 118.53561327, 125.83165351])"
      ]
     },
     "execution_count": 398,
     "metadata": {},
     "output_type": "execute_result"
    }
   ],
   "source": [
    "alpha = abs(np.subtract(y_cal ,y_hat))\n",
    "np.sort(alpha) # check difference"
   ]
  },
  {
   "cell_type": "code",
   "execution_count": 399,
   "metadata": {},
   "outputs": [
    {
     "name": "stdout",
     "output_type": "stream",
     "text": [
      "Sig:  82.65510897729108\n",
      "Sig:  70.43975127522103\n"
     ]
    }
   ],
   "source": [
    "# length of the prediction intervals for the test samples section\n",
    "n5 = (1-0.05)*(calib_size+1)\n",
    "n20=(1-0.2)*(calib_size+1)\n",
    "sig5 = (alpha [int(n5) - 1])\n",
    "sig20 = (alpha [int(n20) - 1])\n",
    "\n",
    "print(\"Sig: \",sig5)\n",
    "print(\"Sig: \",sig20)"
   ]
  },
  {
   "cell_type": "code",
   "execution_count": 400,
   "metadata": {},
   "outputs": [],
   "source": [
    "lengthof5 = (sig5*2)\n",
    "lengthof20 = (sig20*2)"
   ]
  },
  {
   "cell_type": "code",
   "execution_count": 401,
   "metadata": {},
   "outputs": [
    {
     "name": "stdout",
     "output_type": "stream",
     "text": [
      "165.31021795458216 140.87950255044206\n"
     ]
    }
   ],
   "source": [
    "print(lengthof5, lengthof20)"
   ]
  },
  {
   "cell_type": "code",
   "execution_count": 402,
   "metadata": {},
   "outputs": [
    {
     "name": "stdout",
     "output_type": "stream",
     "text": [
      "5% ERROR RATE: 0.0\n",
      "20% ERROR RATE: 0.009009009009009009\n"
     ]
    }
   ],
   "source": [
    "# Calculating the Test Error rate\n",
    "num_err5 = 0.0 # initialise number of errors\n",
    "num_err20 = 0.0 # initialise number of errors\n",
    "test_size = y1_test.size # stores y1 test size\n",
    "y_pred = grid_search.predict(X_test_trans) # test sample predictions\n",
    "\n",
    "# iterate through tests\n",
    "for i in range(test_size):\n",
    "    if lengthof5 <= abs(y1_test[i]-y_pred[i]):\n",
    "        num_err5 = num_err5+1\n",
    "    if lengthof20 <= abs(y1_test[i]-y_pred[i]):\n",
    "        num_err20 = num_err20+1\n",
    "\n",
    "# stores the error rate percentages\n",
    "Error_rate_5 = (num_err5 / test_size)  \n",
    "Error_rate_20 = (num_err20 / test_size) \n",
    "\n",
    "print(\"5% ERROR RATE:\", Error_rate_5)\n",
    "print(\"20% ERROR RATE:\", Error_rate_20)        "
   ]
  },
  {
   "cell_type": "markdown",
   "metadata": {},
   "source": [
    "Here are the percentage of error rates on the test set"
   ]
  }
 ],
 "metadata": {
  "kernelspec": {
   "display_name": "Python 3",
   "language": "python",
   "name": "python3"
  },
  "language_info": {
   "codemirror_mode": {
    "name": "ipython",
    "version": 3
   },
   "file_extension": ".py",
   "mimetype": "text/x-python",
   "name": "python",
   "nbconvert_exporter": "python",
   "pygments_lexer": "ipython3",
   "version": "3.8.5"
  }
 },
 "nbformat": 4,
 "nbformat_minor": 4
}
